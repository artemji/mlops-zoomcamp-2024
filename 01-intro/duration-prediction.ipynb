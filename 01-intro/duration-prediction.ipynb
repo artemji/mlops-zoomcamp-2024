{
 "cells": [
  {
   "cell_type": "code",
   "execution_count": 1,
   "id": "5b816018",
   "metadata": {},
   "outputs": [],
   "source": [
    "import pandas as pd\n",
    "import seaborn as sns\n",
    "import matplotlib.pyplot as plt\n",
    "import pickle\n",
    "\n",
    "from sklearn.feature_extraction import DictVectorizer\n",
    "from sklearn.linear_model import LinearRegression\n",
    "from sklearn.metrics import mean_squared_error\n",
    "\n",
    "# Set display format for pandas\n",
    "pd.set_option('display.float_format', '{:.10f}'.format)\n",
    "\n",
    "# Utility function to print the current state\n",
    "def print_state(message):\n",
    "    print(f'[INFO] {message}')"
   ]
  },
  {
   "cell_type": "code",
   "execution_count": 2,
   "id": "bbf3edfc",
   "metadata": {},
   "outputs": [],
   "source": [
    "def load_data(filepath):\n",
    "    print_state(f'Loading data from {filepath}')\n",
    "    df = pd.read_parquet(filepath)\n",
    "    return df"
   ]
  },
  {
   "cell_type": "code",
   "execution_count": 3,
   "id": "0fa3663d",
   "metadata": {},
   "outputs": [],
   "source": [
    "def preprocess_data(df):\n",
    "    df['duration'] = (df.tpep_dropoff_datetime - df.tpep_pickup_datetime).dt.total_seconds() / 60\n",
    "    return df"
   ]
  },
  {
   "cell_type": "code",
   "execution_count": 4,
   "id": "acc54777",
   "metadata": {},
   "outputs": [],
   "source": [
    "def filter_data(df, min_duration=1, max_duration=60):\n",
    "    print_state('Filtering data based on duration')\n",
    "    df_filtered = df[(df['duration'] >= min_duration) & (df['duration'] <= max_duration)].copy()\n",
    "    return df_filtered"
   ]
  },
  {
   "cell_type": "code",
   "execution_count": 5,
   "id": "9c3cc857",
   "metadata": {},
   "outputs": [],
   "source": [
    "def prepare_data(df):\n",
    "    print_state('Preparing data for model training')\n",
    "    df['PULocationID'] = df['PULocationID'].astype(str)\n",
    "    df['DOLocationID'] = df['DOLocationID'].astype(str)\n",
    "    data_dicts = df[['PULocationID', 'DOLocationID']].to_dict(orient='records')\n",
    "    dv = DictVectorizer()\n",
    "    X = dv.fit_transform(data_dicts)\n",
    "    y = df['duration'].values\n",
    "    return X, y, dv"
   ]
  },
  {
   "cell_type": "code",
   "execution_count": 6,
   "id": "b3572673",
   "metadata": {},
   "outputs": [],
   "source": [
    "def train_model(X, y):\n",
    "    print_state('Training the model')\n",
    "    model = LinearRegression()\n",
    "    model.fit(X, y)\n",
    "    return model"
   ]
  },
  {
   "cell_type": "code",
   "execution_count": 7,
   "id": "8600f653",
   "metadata": {},
   "outputs": [],
   "source": [
    "def evaluate_model(model, X, y):\n",
    "    print_state('Evaluating the model')\n",
    "    y_pred = model.predict(X)\n",
    "    rmse = mean_squared_error(y, y_pred, squared=False)\n",
    "    return rmse"
   ]
  },
  {
   "cell_type": "code",
   "execution_count": 8,
   "id": "a73874d1",
   "metadata": {},
   "outputs": [],
   "source": [
    "def transform_validation_data(dv, df):\n",
    "    print_state('Transforming validation data')\n",
    "    df['PULocationID'] = df['PULocationID'].astype(str)\n",
    "    df['DOLocationID'] = df['DOLocationID'].astype(str)\n",
    "    data_dicts_val = df[['PULocationID', 'DOLocationID']].to_dict(orient='records')\n",
    "    X_val = dv.transform(data_dicts_val)\n",
    "    y_val = df['duration'].values\n",
    "    return X_val, y_val"
   ]
  },
  {
   "cell_type": "code",
   "execution_count": 9,
   "id": "c441f135",
   "metadata": {},
   "outputs": [
    {
     "name": "stdout",
     "output_type": "stream",
     "text": [
      "[INFO] Loading data from ../data/yellow_tripdata_2023-01.parquet\n",
      "[INFO] Read the data for January. How many columns are there?: 19\n",
      "[INFO] What's the standard deviation of the trips duration in January?: 42.59435124195458\n",
      "[INFO] Filtering data based on duration\n",
      "[INFO] What fraction of the records left after you dropped the outliers?: 0.98\n",
      "[INFO] Preparing data for model training\n",
      "[INFO] What's the dimensionality of this matrix (number of columns)?: 515\n",
      "[INFO] Training the model\n",
      "[INFO] Evaluating the model\n",
      "[INFO] What's the RMSE on train?: 7.649261929201487\n"
     ]
    }
   ],
   "source": [
    "# Load and preprocess training data\n",
    "train_filepath = '../data/yellow_tripdata_2023-01.parquet'\n",
    "df_train = load_data(train_filepath)\n",
    "\n",
    "df_train_len = len(df_train)\n",
    "print_state(f'Read the data for January. How many columns are there?: {df_train.shape[1]}')\n",
    "\n",
    "df_train = preprocess_data(df_train)\n",
    "df_train_duration_std = df_train['duration'].std()\n",
    "print_state(f'What\\'s the standard deviation of the trips duration in January?: {df_train_duration_std}')\n",
    "\n",
    "df_train_filtered = filter_data(df_train)\n",
    "\n",
    "fraction_left = len(df_train_filtered) / df_train_len\n",
    "print_state(f'What fraction of the records left after you dropped the outliers?: {fraction_left:.2f}')\n",
    "\n",
    "X_train, y_train, dv = prepare_data(df_train_filtered)\n",
    "\n",
    "print_state(f'What\\'s the dimensionality of this matrix (number of columns)?: {X_train.shape[1]}')\n",
    "\n",
    "# Train the model\n",
    "model = train_model(X_train, y_train)\n",
    "rmse_train = evaluate_model(model, X_train, y_train)\n",
    "print_state(f'What\\'s the RMSE on train?: {rmse_train}')"
   ]
  },
  {
   "cell_type": "code",
   "execution_count": 10,
   "id": "b6d5207c",
   "metadata": {},
   "outputs": [
    {
     "name": "stdout",
     "output_type": "stream",
     "text": [
      "[INFO] Loading data from ../data/yellow_tripdata_2023-02.parquet\n"
     ]
    },
    {
     "name": "stdout",
     "output_type": "stream",
     "text": [
      "[INFO] Filtering data based on duration\n",
      "[INFO] Transforming validation data\n",
      "[INFO] Evaluating the model\n",
      "[INFO] What's the RMSE on validation?: 7.811819793542861\n"
     ]
    }
   ],
   "source": [
    "# Load and preprocess validation data\n",
    "val_filepath = '../data/yellow_tripdata_2023-02.parquet'\n",
    "df_val = load_data(val_filepath)\n",
    "df_val = preprocess_data(df_val)\n",
    "df_val_filtered = filter_data(df_val)\n",
    "X_val, y_val = transform_validation_data(dv, df_val_filtered)\n",
    "\n",
    "# Evaluate the model on validation data\n",
    "rmse_val = evaluate_model(model, X_val, y_val)\n",
    "print_state(f'What\\'s the RMSE on validation?: {rmse_val}')"
   ]
  }
 ],
 "metadata": {
  "kernelspec": {
   "display_name": "Python 3 (ipykernel)",
   "language": "python",
   "name": "python3"
  },
  "language_info": {
   "codemirror_mode": {
    "name": "ipython",
    "version": 3
   },
   "file_extension": ".py",
   "mimetype": "text/x-python",
   "name": "python",
   "nbconvert_exporter": "python",
   "pygments_lexer": "ipython3",
   "version": "3.10.12"
  }
 },
 "nbformat": 4,
 "nbformat_minor": 5
}
